{
 "cells": [
  {
   "cell_type": "code",
   "execution_count": 144,
   "metadata": {},
   "outputs": [],
   "source": [
    "#The Black-Scholes function\n",
    "import numpy as np\n",
    "from tqdm import tqdm\n",
    "import matplotlib.pyplot as plt\n",
    "import scipy.stats as ss\n",
    "\n",
    "\n",
    "#Black and Scholes model\n",
    "def d1(S0, K, r, sigma, T):\n",
    "    return (np.log(S0/K) + (r + sigma**2 / 2) * T)/(sigma * np.sqrt(T))\n",
    " \n",
    "    \n",
    "def d2(S0, K, r, sigma, T):\n",
    "    return (np.log(S0/K) + (r - sigma**2 / 2) * T)/(sigma * np.sqrt(T))\n",
    " \n",
    "    \n",
    "def BlackScholes(S0, K, r, sigma, T):\n",
    "    return S0*ss.norm.cdf(d1(S0, K, r, sigma, T)) - \\\n",
    "           K * np.exp(-r * T) * ss.norm.cdf(d2(S0, K, r, sigma, T))\n",
    "\n",
    "# analytic solution for geometric brownian montion\n",
    "def St_geom(sigma, S0, r, BT, T):\n",
    "    S_t = S0*np.exp(sigma*BT+(r-sigma**2/2)*T)\n",
    "    return S_t\n",
    "\n",
    "\n",
    "#A Heston simulation-Milstein\n",
    "def HestonMilstein(nu, rho, kappa, sigmasquare0, theta, \n",
    "                   T, m, K, cc=0, get_cc=False,\n",
    "                   antithetic_v=False):\n",
    "    \"\"\"\n",
    "    m: the steps of every simulation\n",
    "    \"\"\"\n",
    "    W = np.random.normal(0, 1, m+1)\n",
    "    Z = np.random.normal(0, 1, m+1)\n",
    "    sigmasquare = np.zeros([m+1])\n",
    "    integral = np.zeros([m+1])\n",
    "    asset = np.zeros([m+1])\n",
    "    integralstoch = np.zeros([m+1])\n",
    "    integralstoch2 = np.zeros([m+1])\n",
    "    brownie = np.zeros([m+1])\n",
    "    sigmasquare[0] = sigmasquare0\n",
    "    sums = np.zeros([m+1])\n",
    "    asset[0] = 100\n",
    "    init_price = 100\n",
    "    integral_s = 0\n",
    "    kc = (sigmasquare0)*(np.exp(T*nu**2)-1)/(nu**2)\n",
    "    for i in range(0, m):\n",
    "        sums[i] = -0.5*integral[i]+integralstoch[i]+integralstoch2[i]  \n",
    "        asset[i] = asset[0]*np.exp(sums[i])\n",
    "        sigmasquare[i+1] = sigmasquare[i] + kappa*(theta-sigmasquare[i])/m +\\\n",
    "                           nu*np.sqrt(sigmasquare[i])*W[i]*np.sqrt(T/m) +\\\n",
    "                           ((nu**2)/4)*(W[i]**2-1)/m\n",
    "        if sigmasquare[i+1]<0:\n",
    "            sigmasquare[i+1] = 0\n",
    "        integral[i+1] = integral[i]+(T/m)*(sigmasquare[i])\n",
    "        integralstoch[i+1] = integralstoch[i]+rho*np.sqrt(T/m)*np.sqrt(sigmasquare[i])*W[i]\n",
    "        integralstoch2[i+1] = integralstoch2[i]+np.sqrt(1-rho**2)*np.sqrt(T/m)*np.sqrt(sigmasquare[i])*Z[i]\n",
    "    \n",
    "    sums[m] = -0.5*integral[m] + integralstoch[m] + integralstoch2[m]\n",
    "    asset[m] = asset[0]*np.exp(sums[m])\n",
    "    payoff = np.maximum(asset[m]-K, 0)+ cc*(asset[m] - init_price)\n",
    "    if antithetic_v:\n",
    "        W = -W\n",
    "        Z = -Z\n",
    "        sigmasquare = np.zeros([m+1])\n",
    "        integral = np.zeros([m+1])\n",
    "        asset = np.zeros([m+1])\n",
    "        integralstoch = np.zeros([m+1])\n",
    "        integralstoch2 = np.zeros([m+1])\n",
    "        brownie = np.zeros([m+1])\n",
    "        sigmasquare[0] = sigmasquare0\n",
    "        sums = np.zeros([m+1])\n",
    "        asset[0] = 100\n",
    "        init_price = 100\n",
    "        integral_s = 0\n",
    "        kc = (sigmasquare0)*(np.exp(T*nu**2)-1)/(nu**2)\n",
    "        for i in range(0, m):\n",
    "            sums[i] = -0.5*integral[i]+integralstoch[i]+integralstoch2[i]  \n",
    "            asset[i] = asset[0]*np.exp(sums[i])\n",
    "            sigmasquare[i+1] = sigmasquare[i] + kappa*(theta-sigmasquare[i])/m +\\\n",
    "                               nu*np.sqrt(sigmasquare[i])*W[i]*np.sqrt(T/m) +\\\n",
    "                               ((nu**2)/4)*(W[i]**2-1)/m\n",
    "            if sigmasquare[i+1]<0:\n",
    "                sigmasquare[i+1] = 0\n",
    "            integral[i+1] = integral[i]+(T/m)*(sigmasquare[i])\n",
    "            integralstoch[i+1] = integralstoch[i]+rho*np.sqrt(T/m)*np.sqrt(sigmasquare[i])*W[i]\n",
    "            integralstoch2[i+1] = integralstoch2[i]+np.sqrt(1-rho**2)*np.sqrt(T/m)*np.sqrt(sigmasquare[i])*Z[i]\n",
    "        sums[m] = -0.5*integral[m] + integralstoch[m] + integralstoch2[m]\n",
    "        asset[m] = asset[0]*np.exp(sums[m])\n",
    "        payoff1 = np.maximum(asset[m]-K, 0)+ cc*(asset[m] - init_price)\n",
    "    if get_cc:\n",
    "        return payoff, asset[m]\n",
    "    if antithetic_v:\n",
    "        return (payoff + payoff1)/2\n",
    "    return payoff\n",
    "\n",
    "\n",
    "# get correlation between control variable and target variable with model.\n",
    "def HestonMonteCarloMilstein_corre(nu, rho, kappa, sigmasquare0, theta, T, sim_n, step_n, K):\n",
    "    \"\"\"\n",
    "    m: the number of steps\n",
    "    n: the number of simulations\n",
    "    \"\"\"\n",
    "    S0 = 100\n",
    "    payoff = np.zeros([sim_n])\n",
    "    S_prems = np.zeros([sim_n])\n",
    "    for i in range(0, sim_n):\n",
    "        payoff_i, S_prems_i = HestonMilstein(nu, rho, kappa, sigmasquare0,\n",
    "                          theta, T, step_n, K, cc=0, get_cc=True)\n",
    "        payoff[i] = payoff_i\n",
    "        S_prems[i] = S_prems_i\n",
    "    cc_1 = corr_c(S_prems, payoff, S0)\n",
    "    return cc_1\n",
    "\n",
    "# Heston Monte Carlo (normal Milstein)\n",
    "def HestonMonteCarloMilstein(nu, rho, kappa, sigmasquare0, theta, \n",
    "                             T, sim_n, step_n, K, cc=0):\n",
    "    \"\"\"\n",
    "    m: the number of steps\n",
    "    n: the number of simulations\n",
    "    \"\"\"\n",
    "    payoff = np.zeros([sim_n])\n",
    "    for i in range(0, sim_n):\n",
    "           payoff[i] = HestonMilstein(nu, rho, kappa, sigmasquare0,\n",
    "                       theta, T, step_n, K, cc)\n",
    "    mean = np.mean(payoff)\n",
    "    variance = np.var(payoff)\n",
    "    return mean, variance   \n",
    "\n",
    "def HestonMonteCarloMilstein_anti(nu, rho, kappa, sigmasquare0, theta,\n",
    "                                  T, sim_n, step_n, K):\n",
    "    \"\"\"\n",
    "    m: the number of steps\n",
    "    n: the number of simulations\n",
    "    \"\"\"\n",
    "    payoff = np.zeros([sim_n])\n",
    "    for i in range(0, sim_n):\n",
    "           payoff[i] = HestonMilstein(nu, rho, kappa, sigmasquare0,\n",
    "                       theta, T, step_n, K, 0, get_cc=False,\n",
    "                       antithetic_v=True)\n",
    "    mean = np.mean(payoff)\n",
    "    variance = np.var(payoff)\n",
    "    return mean, variance  \n",
    "\n",
    "\n",
    "# get correlation parameter C:\n",
    "def corr_c(S0_prem, CS, S0):\n",
    "    S0_prem = np.array(S0_prem)\n",
    "    CS = np.array(CS)\n",
    "    cc = -np.sum((CS - np.mean(CS))*(S0_prem - S0))/(np.sum((S0_prem - S0)**2))\n",
    "    return cc\n",
    "\n",
    "\n",
    "\n",
    "# Heston price conditional MC, \n",
    "# Option price Heston with rho neq 0\n",
    "def CMChestonprice(nu, rho, kappa, sigsquare,\n",
    "                  theta, T, m, n, K, cc=0, \n",
    "                  get_c=False, \n",
    "                  antithetic_v=False):\n",
    "    \"\"\" \n",
    "    contiditional Monte Carlo for Heston model, here we assume the interest rate r=0\n",
    "    and the initial asset price is 100 that is the expecation of S0_prem.\n",
    "    m: the the times of simulation\n",
    "    n: the step size\n",
    "    K: the strik price\n",
    "    cc: the correlation bwtween the control variable and target variable.if cc is not 0, \n",
    "        it means you will use control variable method. If cc is 0, \n",
    "        you will not use control variable.\n",
    "    get_c: if it is True, the return will be correlation bwtween\n",
    "           the control variable and target variable.\n",
    "    antithetic_v: if it is True, it means you will use antithetic method.\n",
    "    \"\"\"\n",
    "    interest_r = 0\n",
    "    init_price = 100\n",
    "    S0_prems = np.zeros([m])\n",
    "    mcheston = np.zeros([m])\n",
    "    if antithetic_v:\n",
    "        mcheston1 =np.zeros([m])\n",
    "    for i in range(0, m):  \n",
    "            W=np.random.normal(0, 1, n)\n",
    "            sigmasquare=np.zeros([n+1])\n",
    "            integral=0\n",
    "            brownie=np.zeros([n+1])                                                                                                                     \n",
    "            sigmasquare[0]=sigsquare\n",
    "            integralstoch=0\n",
    "            for l in range(0, n):\n",
    "                brownie[l+1] = brownie[l]+W[l]*np.sqrt(T/n)\n",
    "                sigmasquare[l+1] = sigmasquare[l]+kappa*(theta-sigmasquare[l])*(T/n)+ \\\n",
    "                                   nu*np.sqrt(sigmasquare[l])*W[l]*np.sqrt(T/n)+ \\\n",
    "                                   ((nu**2)/4)*(W[l]**2-1)*T/n\n",
    "                if sigmasquare[l+1] < 0:\n",
    "                    sigmasquare[l+1] =- sigmasquare[l+1]\n",
    "                integral = integral+(T/n)*(sigmasquare[l])\n",
    "                integralstoch = integralstoch+(np.sqrt(sigmasquare[l]))*np.sqrt(T/n)*W[l]\n",
    "            S0_prem = init_price*np.exp(rho*integralstoch-0.5*integral*(rho**2))\n",
    "            sig = np.sqrt((1-(rho**2))*integral/T)\n",
    "            mcheston[i] = BlackScholes(S0_prem, K, interest_r, sig , T) + cc*(S0_prem-init_price)\n",
    "            S0_prems[i] = S0_prem\n",
    "            # ----------------------------------Antithetic-Variable-------------------------------------st\n",
    "            if antithetic_v:\n",
    "                W = - W\n",
    "                sigmasquare = np.zeros([n+1])\n",
    "                integral = 0\n",
    "                brownie = np.zeros([n+1])                                                                                                                     \n",
    "                sigmasquare[0] = sigsquare\n",
    "                integralstoch = 0\n",
    "                for l in range (0, n):\n",
    "                    brownie[l+1] = brownie[l]+W[l]*np.sqrt(T/n)\n",
    "                    sigmasquare[l+1] = sigmasquare[l]+kappa*(theta-sigmasquare[l])*(T/n)+ \\\n",
    "                                       nu*np.sqrt(sigmasquare[l])*W[l]*np.sqrt(T/n)+ \\\n",
    "                                       ((nu**2)/4)*(W[l]**2-1)*T/n\n",
    "                    if sigmasquare[l+1] <0:\n",
    "                        sigmasquare[l+1] =- sigmasquare[l+1]\n",
    "                    integral = integral+(T/n)*(sigmasquare[l])\n",
    "                    integralstoch = integralstoch+(np.sqrt(sigmasquare[l]))*np.sqrt(T/n)*W[l]\n",
    "                S0_prem = init_price*np.exp(rho*integralstoch-0.5*integral*(rho**2))\n",
    "                sig = np.sqrt((1-(rho**2))*integral/T)\n",
    "                mcheston1[i] = BlackScholes(S0_prem, K, interest_r, sig , T) + cc*(S0_prem-init_price)\n",
    "            # ----------------------------------Antithetic-Variable-------------------------------------ed\n",
    "    if antithetic_v:\n",
    "        mcheston = (mcheston + mcheston1)/2\n",
    "    if get_c:\n",
    "        return corr_c(S0_prems, mcheston, init_price)\n",
    "    mean = np.mean(mcheston)\n",
    "    var = np.var(mcheston)\n",
    "    return mean, var"
   ]
  },
  {
   "cell_type": "markdown",
   "metadata": {},
   "source": [
    "# 0.0 crude MonteCarloMilstein + control variate"
   ]
  },
  {
   "cell_type": "code",
   "execution_count": 110,
   "metadata": {},
   "outputs": [
    {
     "name": "stdout",
     "output_type": "stream",
     "text": [
      "-0.5173242107672855\n",
      "9.17268281142175 52.853727737128935\n"
     ]
    }
   ],
   "source": [
    "sim_n = 1000\n",
    "cc1 = HestonMonteCarloMilstein_corre(mu, rho, kappa, \n",
    "      sigsquare0, theta, T, sim_n, step_n, K)\n",
    "print(cc1)\n",
    "sim_n = 1000\n",
    "p1, pv1 = HestonMonteCarloMilstein(mu, rho, kappa, \n",
    "          sigsquare0, theta, T, sim_n, step_n, K, cc=cc1)\n",
    "print(p1, pv1)"
   ]
  },
  {
   "cell_type": "code",
   "execution_count": 139,
   "metadata": {},
   "outputs": [
    {
     "name": "stderr",
     "output_type": "stream",
     "text": [
      "100%|██████████| 50/50 [13:11<00:00, 15.83s/it]"
     ]
    },
    {
     "name": "stdout",
     "output_type": "stream",
     "text": [
      "9.238349583489706 0.2513413413497287\n"
     ]
    },
    {
     "name": "stderr",
     "output_type": "stream",
     "text": [
      "\n"
     ]
    }
   ],
   "source": [
    "n1 = 50\n",
    "sim_n = 2000\n",
    "mu = 0.3\n",
    "rho = -0.5\n",
    "kappa = 1\n",
    "sigsquare0 = 0.04\n",
    "theta = 0.09\n",
    "T = 1\n",
    "K = 100\n",
    "sim_n = 1000\n",
    "step_n = 1000\n",
    "payoffs_MCM_CV = np.zeros([n1])\n",
    "for i in tqdm(range(n1)):\n",
    "    p_i, pv_i = HestonMonteCarloMilstein(mu, rho, kappa, \n",
    "          sigsquare0, theta, T, sim_n, step_n, K, cc=cc1)\n",
    "    payoffs_MCM_CV[i] = p_i\n",
    "print(np.mean(payoffs_MCM_CV), np.std(payoffs_MCM_CV))"
   ]
  },
  {
   "cell_type": "code",
   "execution_count": 145,
   "metadata": {},
   "outputs": [
    {
     "name": "stdout",
     "output_type": "stream",
     "text": [
      "8.955262091391408 54.18144808115544\n"
     ]
    }
   ],
   "source": [
    "p1_anti, pv1_anti = HestonMonteCarloMilstein_anti(mu, rho, kappa, sigsquare0, theta,\n",
    "                    T, sim_n, step_n, K)\n",
    "print(p1_anti, pv1_anti)"
   ]
  },
  {
   "cell_type": "code",
   "execution_count": 140,
   "metadata": {},
   "outputs": [
    {
     "name": "stderr",
     "output_type": "stream",
     "text": [
      "100%|██████████| 50/50 [26:16<00:00, 31.52s/it]"
     ]
    },
    {
     "name": "stdout",
     "output_type": "stream",
     "text": [
      "9.211333250276503 0.23844546777206146\n"
     ]
    },
    {
     "name": "stderr",
     "output_type": "stream",
     "text": [
      "\n"
     ]
    }
   ],
   "source": [
    "n2 = int(n1/1)\n",
    "payoffs_MCM_ANTI = np.zeros([n2])\n",
    "for i in tqdm(range(n2)):\n",
    "    p1_anti, pv1_anti = HestonMonteCarloMilstein_anti(mu, rho, kappa, sigsquare0, theta,\n",
    "                                  T, sim_n, step_n, K)\n",
    "    payoffs_MCM_ANTI[i] = p1_anti\n",
    "print(np.mean(payoffs_MCM_ANTI), np.std(payoffs_MCM_ANTI))"
   ]
  },
  {
   "cell_type": "code",
   "execution_count": null,
   "metadata": {},
   "outputs": [],
   "source": [
    "    integral = 0\n",
    "    integralstoch = 0\n",
    "    delta_t = T/step_n\n",
    "    for i in range(0, step_n):\n",
    "        integral = integral + delta_t * sigmasquare\n",
    "        integralstoch = integralstoch + np.sqrt(sigmasquare) * np.sqrt(delta_t) * W[i]\n",
    "        # update sigmasquare\n",
    "        sigmasquare = sigmasquare + kappa * (theta - sigmasquare) * delta_t + \\\n",
    "                      mu * np.sqrt(sigmasquare) * W[i] + \\\n",
    "                      ((mu ** 2) / 4) * (W[i] ** 2 - delta_t)\n",
    "        if sigmasquare < 0:\n",
    "            sigmasquare = -sigmasquare\n",
    "    S0_prem = init_price * np.exp(rho * integralstoch - 0.5 * integral * (rho ** 2))\n",
    "    sig = np.sqrt((1 - rho ** 2) * integral / T)\n",
    "    payoff = BlackScholes(S0_prem, K, r, sig, T)"
   ]
  },
  {
   "cell_type": "markdown",
   "metadata": {},
   "source": [
    "# 1 Simulate once "
   ]
  },
  {
   "cell_type": "markdown",
   "metadata": {},
   "source": [
    "# 1.1 Conditional Monte Carlo"
   ]
  },
  {
   "cell_type": "code",
   "execution_count": 147,
   "metadata": {},
   "outputs": [
    {
     "name": "stdout",
     "output_type": "stream",
     "text": [
      "(9.02946960297695, 189.7957493128921)\n",
      "16.87398672103882\n",
      "(9.437835733630926, 20.30543112273086)\n",
      "13.054864168167114\n"
     ]
    }
   ],
   "source": [
    "import time\n",
    "# assume the r=0\n",
    "mu = 0.3\n",
    "rho = -0.5\n",
    "kappa = 1\n",
    "sigsquare0 = 0.04\n",
    "theta = 0.09\n",
    "T = 1\n",
    "K = 100\n",
    "sim_n = 1000\n",
    "step_n = 1000\n",
    "t1 = time.time()\n",
    "print(HestonMonteCarloMilstein(mu, rho, kappa, sigsquare0, theta, T, sim_n, step_n, K))\n",
    "t2 = time.time()\n",
    "print(t2-t1)\n",
    "print(CMChestonprice(mu, rho, kappa, sigsquare0, theta, T, sim_n, step_n, K))\n",
    "t3 = time.time()\n",
    "print(t3-t2)"
   ]
  },
  {
   "cell_type": "markdown",
   "metadata": {},
   "source": [
    "# 1.2 Conditional Monte Carlo +  Control Variable "
   ]
  },
  {
   "cell_type": "code",
   "execution_count": 3,
   "metadata": {},
   "outputs": [
    {
     "name": "stderr",
     "output_type": "stream",
     "text": [
      "100%|██████████| 1000/1000 [00:11<00:00, 87.17it/s]\n"
     ]
    },
    {
     "data": {
      "text/plain": [
       "-0.36447321924984266"
      ]
     },
     "execution_count": 3,
     "metadata": {},
     "output_type": "execute_result"
    }
   ],
   "source": [
    "# estimate parameter correlation C\n",
    "cc = CMChestonprice(mu, rho, kappa, sigsquare0, theta, T, sim_n, step_n, K,\n",
    "                cc=0,\n",
    "                get_c=True, \n",
    "                antithetic_v=False)\n",
    "cc"
   ]
  },
  {
   "cell_type": "code",
   "execution_count": 4,
   "metadata": {},
   "outputs": [
    {
     "name": "stderr",
     "output_type": "stream",
     "text": [
      "100%|██████████| 1000/1000 [00:11<00:00, 86.77it/s]"
     ]
    },
    {
     "name": "stdout",
     "output_type": "stream",
     "text": [
      "9.292436246125602 2.137443361086298\n",
      "11.528409004211426\n"
     ]
    },
    {
     "name": "stderr",
     "output_type": "stream",
     "text": [
      "\n"
     ]
    }
   ],
   "source": [
    "t4 = time.time()\n",
    "sim_n = 1000\n",
    "p_mean, p_var = CMChestonprice(mu, rho, kappa, sigsquare0, theta, T, sim_n, step_n, K,\n",
    "                cc=cc,\n",
    "                get_c=False, \n",
    "                antithetic_v=False)\n",
    "t5 = time.time()\n",
    "print(p_mean, p_var)\n",
    "print(t5-t4)"
   ]
  },
  {
   "cell_type": "markdown",
   "metadata": {},
   "source": [
    "# 1.3 Conditional Monte Carlo + Antithetic Variable"
   ]
  },
  {
   "cell_type": "code",
   "execution_count": 5,
   "metadata": {},
   "outputs": [
    {
     "name": "stderr",
     "output_type": "stream",
     "text": [
      "100%|██████████| 500/500 [00:11<00:00, 43.51it/s]"
     ]
    },
    {
     "name": "stdout",
     "output_type": "stream",
     "text": [
      "9.197018845703523 0.300882524661544\n",
      "11.495227098464966\n"
     ]
    },
    {
     "name": "stderr",
     "output_type": "stream",
     "text": [
      "\n"
     ]
    }
   ],
   "source": [
    "sim_n = 500\n",
    "t6 = time.time()\n",
    "p_mean, p_var = CMChestonprice(mu, rho, kappa, sigsquare0, theta, T, sim_n, step_n, K,\n",
    "                cc=0,\n",
    "                get_c=False, \n",
    "                antithetic_v=True)\n",
    "t7 = time.time()\n",
    "print(p_mean, p_var)\n",
    "print(t7-t6)"
   ]
  },
  {
   "cell_type": "markdown",
   "metadata": {},
   "source": [
    "# 1.4 Conditional Monte Carlo + Control Variable + Antithetic Variable"
   ]
  },
  {
   "cell_type": "code",
   "execution_count": 8,
   "metadata": {},
   "outputs": [
    {
     "name": "stderr",
     "output_type": "stream",
     "text": [
      "100%|██████████| 500/500 [00:11<00:00, 42.69it/s]"
     ]
    },
    {
     "name": "stdout",
     "output_type": "stream",
     "text": [
      "9.18650325451601 1.2158997590280818 11.716490983963013\n"
     ]
    },
    {
     "name": "stderr",
     "output_type": "stream",
     "text": [
      "\n"
     ]
    }
   ],
   "source": [
    "sim_n = 500\n",
    "t8 = time.time()\n",
    "p_mean, p_var = CMChestonprice(mu, rho, kappa, sigsquare0, theta, T, sim_n, step_n, K,\n",
    "                cc=cc,\n",
    "                get_c=False, \n",
    "                antithetic_v=True)\n",
    "t9 = time.time()\n",
    "print(p_mean, p_var, t9-t8)"
   ]
  },
  {
   "cell_type": "markdown",
   "metadata": {},
   "source": [
    "# 5 results"
   ]
  },
  {
   "cell_type": "markdown",
   "metadata": {},
   "source": [
    "|method|price|variance|times of  simulation|time cost(s)|\n",
    "|--:|:--:|:--:|:--:|--:|\n",
    "|Normal Milstein |8.8978|181.9831|1000|18.9230|\n",
    "|Conditional Monte Carlo|9.5694|20.1060|1000|11.5447|\n",
    "|Conditional Monte Carlo +  Control Variable |9.2924|2.1374|1000|11.5284|\n",
    "|Conditional Monte Carlo + Antithetic Variable|9.1970|0.3009|500|11.4952|\n",
    "|Conditional Monte Carlo + Control Variable + Antithetic Variable|9.1865|1.2159|500|11.7165|"
   ]
  },
  {
   "cell_type": "markdown",
   "metadata": {},
   "source": [
    "# 2   simulate 50 times"
   ]
  },
  {
   "cell_type": "markdown",
   "metadata": {},
   "source": [
    "# 2.1 Conditional Monte Carlo"
   ]
  },
  {
   "cell_type": "code",
   "execution_count": 31,
   "metadata": {},
   "outputs": [
    {
     "name": "stderr",
     "output_type": "stream",
     "text": [
      "100%|██████████| 50/50 [23:11<00:00, 27.84s/it]"
     ]
    },
    {
     "name": "stdout",
     "output_type": "stream",
     "text": [
      "Milstein, mean: 9.27227211211279, std 0.4906567341879107\n",
      "CMC, mean: 9.190927407358208, std 0.11249439804113703\n"
     ]
    },
    {
     "name": "stderr",
     "output_type": "stream",
     "text": [
      "\n"
     ]
    }
   ],
   "source": [
    "sim_n = 1000\n",
    "sim_num = 50\n",
    "payoffs = np.zeros([sim_num])\n",
    "payoffs_CMC = np.zeros([sim_num])\n",
    "for i in tqdm(range(sim_num)):\n",
    "    mean, var = HestonMonteCarloMilstein(mu, rho, kappa, sigsquare0, theta, T, sim_n, step_n, K)\n",
    "    mean_CMC, var_CMC = CMChestonprice(mu, rho, kappa, sigsquare0, theta, T, sim_n, step_n, K)\n",
    "    payoffs[i] = mean\n",
    "    payoffs_CMC[i] = mean_CMC\n",
    "print('Milstein, mean: {}, std {}'.format(np.mean(payoffs), np.std(payoffs)))\n",
    "print('CMC, mean: {}, std {}'.format(np.mean(payoffs_CMC), np.std(payoffs_CMC)))"
   ]
  },
  {
   "cell_type": "markdown",
   "metadata": {},
   "source": [
    "# 2.2 Conditional Monte Carlo +  Control Variable "
   ]
  },
  {
   "cell_type": "code",
   "execution_count": 35,
   "metadata": {},
   "outputs": [
    {
     "name": "stderr",
     "output_type": "stream",
     "text": [
      "100%|██████████| 50/50 [09:52<00:00, 11.85s/it]"
     ]
    },
    {
     "name": "stdout",
     "output_type": "stream",
     "text": [
      "Milstein, mean: 9.232755680153776, std 0.04684908848425236\n"
     ]
    },
    {
     "name": "stderr",
     "output_type": "stream",
     "text": [
      "\n"
     ]
    }
   ],
   "source": [
    "sim_n = 1000\n",
    "payoffs_CMC_CV = np.zeros([sim_num])\n",
    "for i in tqdm(range(sim_num)):\n",
    "    mean_CMC_CV, var_CMC_CV = CMChestonprice(mu, rho, kappa, sigsquare0, theta, T, sim_n, step_n, K,\n",
    "                    cc=cc,\n",
    "                    get_c=False, \n",
    "                    antithetic_v=False)\n",
    "    payoffs_CMC_CV[i] = mean_CMC_CV\n",
    "print('Milstein, mean: {}, std {}'.format(np.mean(payoffs_CMC_CV), np.std(payoffs_CMC_CV)))"
   ]
  },
  {
   "cell_type": "markdown",
   "metadata": {},
   "source": [
    "# 2.3 Conditional Monte Carlo + Antithetic Variable"
   ]
  },
  {
   "cell_type": "code",
   "execution_count": 33,
   "metadata": {},
   "outputs": [
    {
     "name": "stderr",
     "output_type": "stream",
     "text": [
      "100%|██████████| 50/50 [09:01<00:00, 10.84s/it]"
     ]
    },
    {
     "name": "stdout",
     "output_type": "stream",
     "text": [
      "Milstein, mean: 9.22464297385613, std 0.025364488094739488\n"
     ]
    },
    {
     "name": "stderr",
     "output_type": "stream",
     "text": [
      "\n"
     ]
    }
   ],
   "source": [
    "payoffs_CMC_ANTI = np.zeros([sim_num])\n",
    "sim_n = 500\n",
    "for i in tqdm(range(sim_num)):\n",
    "    mean_CMC_ANTI, var_CMC_ANTI = CMChestonprice(mu, rho, kappa, sigsquare0, theta, T, sim_n, step_n, K,\n",
    "                    cc=0,\n",
    "                    get_c=False, \n",
    "                    antithetic_v=True)\n",
    "    payoffs_CMC_ANTI[i] = mean_CMC_ANTI\n",
    "print('Milstein, mean: {}, std {}'.format(np.mean(payoffs_CMC_ANTI), np.std(payoffs_CMC_ANTI)))"
   ]
  },
  {
   "cell_type": "markdown",
   "metadata": {},
   "source": [
    "# 2.4 Conditional Monte Carlo + Control Variable + Antithetic Variable"
   ]
  },
  {
   "cell_type": "code",
   "execution_count": 30,
   "metadata": {},
   "outputs": [
    {
     "name": "stderr",
     "output_type": "stream",
     "text": [
      "100%|██████████| 50/50 [08:55<00:00, 10.72s/it]"
     ]
    },
    {
     "name": "stdout",
     "output_type": "stream",
     "text": [
      "Milstein, mean: 9.243498655738982, std 0.04928711117724456\n"
     ]
    },
    {
     "name": "stderr",
     "output_type": "stream",
     "text": [
      "\n"
     ]
    }
   ],
   "source": [
    "payoffs_CMC_ALL = np.zeros([sim_num])\n",
    "sim_n = 500\n",
    "for i in tqdm(range(sim_num)):\n",
    "    mean_CMC_ALL, var_CMC_ALL = CMChestonprice(mu, rho, kappa, sigsquare0, theta, T, sim_n, step_n, K,\n",
    "                    cc=cc,\n",
    "                    get_c=False, \n",
    "                    antithetic_v=True)\n",
    "    payoffs_CMC_ALL[i] = mean_CMC_ALL\n",
    "print('Milstein, mean: {}, std {}'.format(np.mean(payoffs_CMC_ALL), np.std(payoffs_CMC_ALL)))"
   ]
  },
  {
   "cell_type": "markdown",
   "metadata": {},
   "source": [
    "# 2.5 Results"
   ]
  },
  {
   "cell_type": "markdown",
   "metadata": {},
   "source": [
    "|method|price|variance|times of simulation|times of Monte Carlo|time cost (min)|\n",
    "|--:|:--:|:--:|:--:|:--:|:--:|\n",
    "|Normal Milstein |9.2723|0.4907|1000|50|11|\n",
    "|Conditional Monte Carlo|9.1909|0.1125|1000|50|11|\n",
    "|Conditional Monte Carlo +  Control Variable |9.2327|0.0468|1000|50|10|\n",
    "|Conditional Monte Carlo + Antithetic Variable|9.2246|0.0254|500|50|9|\n",
    "|Conditional Monte Carlo + Control Variable + Antithetic Variable|9.2435|0.0493|500|50|9|"
   ]
  },
  {
   "cell_type": "code",
   "execution_count": null,
   "metadata": {},
   "outputs": [],
   "source": []
  }
 ],
 "metadata": {
  "kernelspec": {
   "display_name": "Python 3",
   "language": "python",
   "name": "python3"
  },
  "language_info": {
   "codemirror_mode": {
    "name": "ipython",
    "version": 3
   },
   "file_extension": ".py",
   "mimetype": "text/x-python",
   "name": "python",
   "nbconvert_exporter": "python",
   "pygments_lexer": "ipython3",
   "version": "3.7.6"
  }
 },
 "nbformat": 4,
 "nbformat_minor": 4
}
